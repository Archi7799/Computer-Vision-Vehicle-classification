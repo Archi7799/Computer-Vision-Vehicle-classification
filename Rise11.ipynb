{
  "nbformat": 4,
  "nbformat_minor": 0,
  "metadata": {
    "colab": {
      "provenance": [],
      "collapsed_sections": [
        "8cjvOOGqXFuu",
        "-HFRAmJSXS1B",
        "aWw-O3uCXZej",
        "HSF4svLLXoVr"
      ],
      "gpuType": "T4",
      "include_colab_link": true
    },
    "kernelspec": {
      "name": "python3",
      "display_name": "Python 3"
    },
    "language_info": {
      "name": "python"
    },
    "accelerator": "GPU"
  },
  "cells": [
    {
      "cell_type": "markdown",
      "metadata": {
        "id": "view-in-github",
        "colab_type": "text"
      },
      "source": [
        "<a href=\"https://colab.research.google.com/github/Archi7799/Computer-Vision-Vehicle-classification/blob/main/Rise11.ipynb\" target=\"_parent\"><img src=\"https://colab.research.google.com/assets/colab-badge.svg\" alt=\"Open In Colab\"/></a>"
      ]
    },
    {
      "cell_type": "markdown",
      "source": [
        "## 1. Load Data"
      ],
      "metadata": {
        "id": "8cjvOOGqXFuu"
      }
    },
    {
      "cell_type": "code",
      "execution_count": 2,
      "metadata": {
        "id": "gUj9nPckDCzf",
        "colab": {
          "base_uri": "https://localhost:8080/"
        },
        "outputId": "c546b1d7-b3a2-4848-f511-023e52b00db8"
      },
      "outputs": [
        {
          "output_type": "stream",
          "name": "stdout",
          "text": [
            "Requirement already satisfied: pandas in /usr/local/lib/python3.10/dist-packages (2.1.4)\n",
            "Requirement already satisfied: numpy<2,>=1.22.4 in /usr/local/lib/python3.10/dist-packages (from pandas) (1.23.5)\n",
            "Requirement already satisfied: python-dateutil>=2.8.2 in /usr/local/lib/python3.10/dist-packages (from pandas) (2.8.2)\n",
            "Requirement already satisfied: pytz>=2020.1 in /usr/local/lib/python3.10/dist-packages (from pandas) (2023.3.post1)\n",
            "Requirement already satisfied: tzdata>=2022.1 in /usr/local/lib/python3.10/dist-packages (from pandas) (2023.4)\n",
            "Requirement already satisfied: six>=1.5 in /usr/local/lib/python3.10/dist-packages (from python-dateutil>=2.8.2->pandas) (1.16.0)\n"
          ]
        },
        {
          "output_type": "stream",
          "name": "stderr",
          "text": [
            "[nltk_data] Downloading package stopwords to /root/nltk_data...\n",
            "[nltk_data]   Package stopwords is already up-to-date!\n",
            "[nltk_data] Downloading package punkt to /root/nltk_data...\n",
            "[nltk_data]   Package punkt is already up-to-date!\n",
            "[nltk_data] Downloading package averaged_perceptron_tagger to\n",
            "[nltk_data]     /root/nltk_data...\n",
            "[nltk_data]   Package averaged_perceptron_tagger is already up-to-\n",
            "[nltk_data]       date!\n",
            "[nltk_data] Downloading package wordnet to /root/nltk_data...\n",
            "[nltk_data]   Package wordnet is already up-to-date!\n"
          ]
        }
      ],
      "source": [
        "!pip install pandas --upgrade\n",
        "import pandas as pd\n",
        "from sklearn.model_selection import train_test_split, GridSearchCV\n",
        "from sklearn.feature_extraction.text import TfidfVectorizer\n",
        "import matplotlib.pyplot as plt\n",
        "import seaborn as sns\n",
        "import re\n",
        "import string\n",
        "import nltk\n",
        "from nltk.corpus import stopwords\n",
        "from nltk.tokenize import word_tokenize\n",
        "from nltk.stem import WordNetLemmatizer\n",
        "from nltk.corpus import wordnet\n",
        "from sklearn.metrics import confusion_matrix,accuracy_score,classification_report\n",
        "\n",
        "nltk.download('stopwords')\n",
        "nltk.download('punkt')\n",
        "nltk.download('averaged_perceptron_tagger')\n",
        "nltk.download('wordnet')\n",
        "\n",
        "# Load data\n",
        "filet = 'train.csv'\n",
        "df = pd.read_csv(filet)"
      ]
    },
    {
      "cell_type": "code",
      "source": [
        "df.info()\n",
        "df.describe()"
      ],
      "metadata": {
        "id": "c0gx70-Te3mu",
        "colab": {
          "base_uri": "https://localhost:8080/",
          "height": 456
        },
        "outputId": "538f72e4-ee9e-4144-992a-da77f31c5aaa"
      },
      "execution_count": 3,
      "outputs": [
        {
          "output_type": "stream",
          "name": "stdout",
          "text": [
            "<class 'pandas.core.frame.DataFrame'>\n",
            "RangeIndex: 41152 entries, 0 to 41151\n",
            "Data columns (total 2 columns):\n",
            " #   Column  Non-Null Count  Dtype \n",
            "---  ------  --------------  ----- \n",
            " 0   text    41152 non-null  object\n",
            " 1   Y       41152 non-null  int64 \n",
            "dtypes: int64(1), object(1)\n",
            "memory usage: 643.1+ KB\n"
          ]
        },
        {
          "output_type": "execute_result",
          "data": {
            "text/plain": [
              "                  Y\n",
              "count  41152.000000\n",
              "mean       1.064347\n",
              "std        0.899207\n",
              "min        0.000000\n",
              "25%        0.000000\n",
              "50%        1.000000\n",
              "75%        2.000000\n",
              "max        2.000000"
            ],
            "text/html": [
              "\n",
              "  <div id=\"df-24a99cf4-ce49-45cd-ab5a-120fa6af3326\" class=\"colab-df-container\">\n",
              "    <div>\n",
              "<style scoped>\n",
              "    .dataframe tbody tr th:only-of-type {\n",
              "        vertical-align: middle;\n",
              "    }\n",
              "\n",
              "    .dataframe tbody tr th {\n",
              "        vertical-align: top;\n",
              "    }\n",
              "\n",
              "    .dataframe thead th {\n",
              "        text-align: right;\n",
              "    }\n",
              "</style>\n",
              "<table border=\"1\" class=\"dataframe\">\n",
              "  <thead>\n",
              "    <tr style=\"text-align: right;\">\n",
              "      <th></th>\n",
              "      <th>Y</th>\n",
              "    </tr>\n",
              "  </thead>\n",
              "  <tbody>\n",
              "    <tr>\n",
              "      <th>count</th>\n",
              "      <td>41152.000000</td>\n",
              "    </tr>\n",
              "    <tr>\n",
              "      <th>mean</th>\n",
              "      <td>1.064347</td>\n",
              "    </tr>\n",
              "    <tr>\n",
              "      <th>std</th>\n",
              "      <td>0.899207</td>\n",
              "    </tr>\n",
              "    <tr>\n",
              "      <th>min</th>\n",
              "      <td>0.000000</td>\n",
              "    </tr>\n",
              "    <tr>\n",
              "      <th>25%</th>\n",
              "      <td>0.000000</td>\n",
              "    </tr>\n",
              "    <tr>\n",
              "      <th>50%</th>\n",
              "      <td>1.000000</td>\n",
              "    </tr>\n",
              "    <tr>\n",
              "      <th>75%</th>\n",
              "      <td>2.000000</td>\n",
              "    </tr>\n",
              "    <tr>\n",
              "      <th>max</th>\n",
              "      <td>2.000000</td>\n",
              "    </tr>\n",
              "  </tbody>\n",
              "</table>\n",
              "</div>\n",
              "    <div class=\"colab-df-buttons\">\n",
              "\n",
              "  <div class=\"colab-df-container\">\n",
              "    <button class=\"colab-df-convert\" onclick=\"convertToInteractive('df-24a99cf4-ce49-45cd-ab5a-120fa6af3326')\"\n",
              "            title=\"Convert this dataframe to an interactive table.\"\n",
              "            style=\"display:none;\">\n",
              "\n",
              "  <svg xmlns=\"http://www.w3.org/2000/svg\" height=\"24px\" viewBox=\"0 -960 960 960\">\n",
              "    <path d=\"M120-120v-720h720v720H120Zm60-500h600v-160H180v160Zm220 220h160v-160H400v160Zm0 220h160v-160H400v160ZM180-400h160v-160H180v160Zm440 0h160v-160H620v160ZM180-180h160v-160H180v160Zm440 0h160v-160H620v160Z\"/>\n",
              "  </svg>\n",
              "    </button>\n",
              "\n",
              "  <style>\n",
              "    .colab-df-container {\n",
              "      display:flex;\n",
              "      gap: 12px;\n",
              "    }\n",
              "\n",
              "    .colab-df-convert {\n",
              "      background-color: #E8F0FE;\n",
              "      border: none;\n",
              "      border-radius: 50%;\n",
              "      cursor: pointer;\n",
              "      display: none;\n",
              "      fill: #1967D2;\n",
              "      height: 32px;\n",
              "      padding: 0 0 0 0;\n",
              "      width: 32px;\n",
              "    }\n",
              "\n",
              "    .colab-df-convert:hover {\n",
              "      background-color: #E2EBFA;\n",
              "      box-shadow: 0px 1px 2px rgba(60, 64, 67, 0.3), 0px 1px 3px 1px rgba(60, 64, 67, 0.15);\n",
              "      fill: #174EA6;\n",
              "    }\n",
              "\n",
              "    .colab-df-buttons div {\n",
              "      margin-bottom: 4px;\n",
              "    }\n",
              "\n",
              "    [theme=dark] .colab-df-convert {\n",
              "      background-color: #3B4455;\n",
              "      fill: #D2E3FC;\n",
              "    }\n",
              "\n",
              "    [theme=dark] .colab-df-convert:hover {\n",
              "      background-color: #434B5C;\n",
              "      box-shadow: 0px 1px 3px 1px rgba(0, 0, 0, 0.15);\n",
              "      filter: drop-shadow(0px 1px 2px rgba(0, 0, 0, 0.3));\n",
              "      fill: #FFFFFF;\n",
              "    }\n",
              "  </style>\n",
              "\n",
              "    <script>\n",
              "      const buttonEl =\n",
              "        document.querySelector('#df-24a99cf4-ce49-45cd-ab5a-120fa6af3326 button.colab-df-convert');\n",
              "      buttonEl.style.display =\n",
              "        google.colab.kernel.accessAllowed ? 'block' : 'none';\n",
              "\n",
              "      async function convertToInteractive(key) {\n",
              "        const element = document.querySelector('#df-24a99cf4-ce49-45cd-ab5a-120fa6af3326');\n",
              "        const dataTable =\n",
              "          await google.colab.kernel.invokeFunction('convertToInteractive',\n",
              "                                                    [key], {});\n",
              "        if (!dataTable) return;\n",
              "\n",
              "        const docLinkHtml = 'Like what you see? Visit the ' +\n",
              "          '<a target=\"_blank\" href=https://colab.research.google.com/notebooks/data_table.ipynb>data table notebook</a>'\n",
              "          + ' to learn more about interactive tables.';\n",
              "        element.innerHTML = '';\n",
              "        dataTable['output_type'] = 'display_data';\n",
              "        await google.colab.output.renderOutput(dataTable, element);\n",
              "        const docLink = document.createElement('div');\n",
              "        docLink.innerHTML = docLinkHtml;\n",
              "        element.appendChild(docLink);\n",
              "      }\n",
              "    </script>\n",
              "  </div>\n",
              "\n",
              "\n",
              "<div id=\"df-b66a2075-0bf0-4c56-8b91-20e5bd538c76\">\n",
              "  <button class=\"colab-df-quickchart\" onclick=\"quickchart('df-b66a2075-0bf0-4c56-8b91-20e5bd538c76')\"\n",
              "            title=\"Suggest charts\"\n",
              "            style=\"display:none;\">\n",
              "\n",
              "<svg xmlns=\"http://www.w3.org/2000/svg\" height=\"24px\"viewBox=\"0 0 24 24\"\n",
              "     width=\"24px\">\n",
              "    <g>\n",
              "        <path d=\"M19 3H5c-1.1 0-2 .9-2 2v14c0 1.1.9 2 2 2h14c1.1 0 2-.9 2-2V5c0-1.1-.9-2-2-2zM9 17H7v-7h2v7zm4 0h-2V7h2v10zm4 0h-2v-4h2v4z\"/>\n",
              "    </g>\n",
              "</svg>\n",
              "  </button>\n",
              "\n",
              "<style>\n",
              "  .colab-df-quickchart {\n",
              "      --bg-color: #E8F0FE;\n",
              "      --fill-color: #1967D2;\n",
              "      --hover-bg-color: #E2EBFA;\n",
              "      --hover-fill-color: #174EA6;\n",
              "      --disabled-fill-color: #AAA;\n",
              "      --disabled-bg-color: #DDD;\n",
              "  }\n",
              "\n",
              "  [theme=dark] .colab-df-quickchart {\n",
              "      --bg-color: #3B4455;\n",
              "      --fill-color: #D2E3FC;\n",
              "      --hover-bg-color: #434B5C;\n",
              "      --hover-fill-color: #FFFFFF;\n",
              "      --disabled-bg-color: #3B4455;\n",
              "      --disabled-fill-color: #666;\n",
              "  }\n",
              "\n",
              "  .colab-df-quickchart {\n",
              "    background-color: var(--bg-color);\n",
              "    border: none;\n",
              "    border-radius: 50%;\n",
              "    cursor: pointer;\n",
              "    display: none;\n",
              "    fill: var(--fill-color);\n",
              "    height: 32px;\n",
              "    padding: 0;\n",
              "    width: 32px;\n",
              "  }\n",
              "\n",
              "  .colab-df-quickchart:hover {\n",
              "    background-color: var(--hover-bg-color);\n",
              "    box-shadow: 0 1px 2px rgba(60, 64, 67, 0.3), 0 1px 3px 1px rgba(60, 64, 67, 0.15);\n",
              "    fill: var(--button-hover-fill-color);\n",
              "  }\n",
              "\n",
              "  .colab-df-quickchart-complete:disabled,\n",
              "  .colab-df-quickchart-complete:disabled:hover {\n",
              "    background-color: var(--disabled-bg-color);\n",
              "    fill: var(--disabled-fill-color);\n",
              "    box-shadow: none;\n",
              "  }\n",
              "\n",
              "  .colab-df-spinner {\n",
              "    border: 2px solid var(--fill-color);\n",
              "    border-color: transparent;\n",
              "    border-bottom-color: var(--fill-color);\n",
              "    animation:\n",
              "      spin 1s steps(1) infinite;\n",
              "  }\n",
              "\n",
              "  @keyframes spin {\n",
              "    0% {\n",
              "      border-color: transparent;\n",
              "      border-bottom-color: var(--fill-color);\n",
              "      border-left-color: var(--fill-color);\n",
              "    }\n",
              "    20% {\n",
              "      border-color: transparent;\n",
              "      border-left-color: var(--fill-color);\n",
              "      border-top-color: var(--fill-color);\n",
              "    }\n",
              "    30% {\n",
              "      border-color: transparent;\n",
              "      border-left-color: var(--fill-color);\n",
              "      border-top-color: var(--fill-color);\n",
              "      border-right-color: var(--fill-color);\n",
              "    }\n",
              "    40% {\n",
              "      border-color: transparent;\n",
              "      border-right-color: var(--fill-color);\n",
              "      border-top-color: var(--fill-color);\n",
              "    }\n",
              "    60% {\n",
              "      border-color: transparent;\n",
              "      border-right-color: var(--fill-color);\n",
              "    }\n",
              "    80% {\n",
              "      border-color: transparent;\n",
              "      border-right-color: var(--fill-color);\n",
              "      border-bottom-color: var(--fill-color);\n",
              "    }\n",
              "    90% {\n",
              "      border-color: transparent;\n",
              "      border-bottom-color: var(--fill-color);\n",
              "    }\n",
              "  }\n",
              "</style>\n",
              "\n",
              "  <script>\n",
              "    async function quickchart(key) {\n",
              "      const quickchartButtonEl =\n",
              "        document.querySelector('#' + key + ' button');\n",
              "      quickchartButtonEl.disabled = true;  // To prevent multiple clicks.\n",
              "      quickchartButtonEl.classList.add('colab-df-spinner');\n",
              "      try {\n",
              "        const charts = await google.colab.kernel.invokeFunction(\n",
              "            'suggestCharts', [key], {});\n",
              "      } catch (error) {\n",
              "        console.error('Error during call to suggestCharts:', error);\n",
              "      }\n",
              "      quickchartButtonEl.classList.remove('colab-df-spinner');\n",
              "      quickchartButtonEl.classList.add('colab-df-quickchart-complete');\n",
              "    }\n",
              "    (() => {\n",
              "      let quickchartButtonEl =\n",
              "        document.querySelector('#df-b66a2075-0bf0-4c56-8b91-20e5bd538c76 button');\n",
              "      quickchartButtonEl.style.display =\n",
              "        google.colab.kernel.accessAllowed ? 'block' : 'none';\n",
              "    })();\n",
              "  </script>\n",
              "</div>\n",
              "\n",
              "    </div>\n",
              "  </div>\n"
            ]
          },
          "metadata": {},
          "execution_count": 3
        }
      ]
    },
    {
      "cell_type": "markdown",
      "source": [
        "## 2. Preprocess Data"
      ],
      "metadata": {
        "id": "vhlXzLjlXMuJ"
      }
    },
    {
      "cell_type": "code",
      "source": [
        "# Find NaN values in the DataFrame\n",
        "nan_values = df['Y'].isna().sum()\n",
        "\n",
        "# Display columns with NaN values and their counts\n",
        "columns_with_nan = nan_values[nan_values > 0]\n",
        "print(\"Columns with NaN values:\")\n",
        "print(columns_with_nan)"
      ],
      "metadata": {
        "colab": {
          "base_uri": "https://localhost:8080/"
        },
        "id": "XyK94ohPoWTu",
        "outputId": "be2f52a1-b879-4938-f7b8-c150e9c596f6"
      },
      "execution_count": 4,
      "outputs": [
        {
          "output_type": "stream",
          "name": "stdout",
          "text": [
            "Columns with NaN values:\n",
            "[]\n"
          ]
        }
      ]
    },
    {
      "cell_type": "code",
      "source": [
        "# Convert text to lowercase\n",
        "df['X_processed'] = df['text'].apply(lambda x: x.lower() if isinstance(x, str) else x)\n",
        "# df['X_processed'].head(10)"
      ],
      "metadata": {
        "id": "eTpIdD48KrII"
      },
      "execution_count": 5,
      "outputs": []
    },
    {
      "cell_type": "code",
      "source": [
        "#Removing URLs if any\n",
        "# Define a regex pattern to match URLs\n",
        "url_pattern = re.compile(r'https?://\\S+')\n",
        "\n",
        "# Define a function to remove URLs from text\n",
        "def remove_urls(text):\n",
        "    return url_pattern.sub('', text)\n",
        "\n",
        "# Apply the function to the 'text' column and create a new column 'clean_text'\n",
        "df['X_processed'] = df['X_processed'].apply(remove_urls)\n",
        "\n",
        "# df['X_processed'].head(10)"
      ],
      "metadata": {
        "id": "SqmhOJVYK24q"
      },
      "execution_count": 6,
      "outputs": []
    },
    {
      "cell_type": "code",
      "source": [
        "#Removing non word and non white spaces characters(punctuations,symbols or special character)\n",
        "df['X_processed'] = df['X_processed'].replace(to_replace=r'[^\\w\\s]', value='', regex=True)\n",
        "# df['X_processed'].head(10)"
      ],
      "metadata": {
        "id": "HmPDP4MzK77R"
      },
      "execution_count": 7,
      "outputs": []
    },
    {
      "cell_type": "code",
      "source": [
        "#Removing digits\n",
        "df['X_processed'] = df['X_processed'].replace(to_replace=r'\\d', value='', regex=True)\n",
        "# df['X_processed'].head(10)"
      ],
      "metadata": {
        "id": "7kOCJo3HLHvU"
      },
      "execution_count": 8,
      "outputs": []
    },
    {
      "cell_type": "code",
      "source": [
        "#Tokenization\n",
        "df['X_processed'] = df['X_processed'].apply(word_tokenize)\n",
        "# df['X_processed'].head(10)"
      ],
      "metadata": {
        "id": "pwLCbTcgLNc5"
      },
      "execution_count": 9,
      "outputs": []
    },
    {
      "cell_type": "code",
      "source": [
        "# Remove numbers\n",
        "stop_words = set(stopwords.words('english'))\n",
        "df['X_processed'] = df['X_processed'].apply(lambda x: [word for word in x if word not in stop_words])\n",
        "# df['X_processed'].head(10)"
      ],
      "metadata": {
        "id": "E1QWzjhGLReH"
      },
      "execution_count": 10,
      "outputs": []
    },
    {
      "cell_type": "code",
      "source": [
        "#Stemming\n",
        "from nltk.stem import PorterStemmer\n",
        "\n",
        "# Initialize the Porter Stemmer\n",
        "stemmer = PorterStemmer()\n",
        "\n",
        "# Define a function to perform stemming on the 'text' column\n",
        "def stem_words(words):\n",
        "    return [stemmer.stem(word) for word in words]\n",
        "\n",
        "# Define a function to perform stemming on the 'text' column\n",
        "def stem_words(words):\n",
        "    return [stemmer.stem(word) for word in words]\n",
        "\n",
        "# Apply the function to the 'text' column and create a new column 'stemmed_text'\n",
        "df['X_processed'] = df['X_processed'].apply(stem_words)\n",
        "\n",
        "# df['X_processed'].head(10)"
      ],
      "metadata": {
        "id": "AWWD2HOaLU68"
      },
      "execution_count": 11,
      "outputs": []
    },
    {
      "cell_type": "code",
      "source": [
        "# #Lemmatization\n",
        "\n",
        "# # initialize lemmatizer\n",
        "# lemmatizer = WordNetLemmatizer()\n",
        "\n",
        "# # define function to lemmatize tokens\n",
        "# def lemmatize_tokens(tokens):\n",
        "#     # convert POS tag to WordNet format\n",
        "#     def get_wordnet_pos(word):\n",
        "#         tag = nltk.pos_tag([word])[0][1][0].upper()\n",
        "#         tag_dict = {\"J\": wordnet.ADJ,\n",
        "#                     \"N\": wordnet.NOUN,\n",
        "#                     \"V\": wordnet.VERB,\n",
        "#                     \"R\": wordnet.ADV}\n",
        "#         return tag_dict.get(tag, wordnet.NOUN)\n",
        "\n",
        "#     # lemmatize tokens\n",
        "#     lemmas = [lemmatizer.lemmatize(token, get_wordnet_pos(token)) for token in tokens]\n",
        "\n",
        "#     # return lemmatized tokens as a list\n",
        "#     return lemmas\n",
        "\n",
        "# # apply lemmatization function to column of dataframe\n",
        "# df['X_processed'] = df['X_processed'].apply(lemmatize_tokens)\n",
        "\n",
        "# df['X_processed'].head(10)"
      ],
      "metadata": {
        "id": "tx1_Q3tDLaQZ"
      },
      "execution_count": 12,
      "outputs": []
    },
    {
      "cell_type": "markdown",
      "source": [
        "## 3. Visualize data"
      ],
      "metadata": {
        "id": "GyoEBceXXcue"
      }
    },
    {
      "cell_type": "code",
      "source": [
        "plt.figure(figsize=(6,4))\n",
        "sns.countplot(x='Y', data=df, palette='rainbow')\n",
        "plt.title('Sentiment Distribution')\n",
        "plt.xlabel('Sentiment')\n",
        "plt.ylabel('Count')\n",
        "plt.show()"
      ],
      "metadata": {
        "id": "SiVqu7Y2K0Mx",
        "colab": {
          "base_uri": "https://localhost:8080/",
          "height": 0
        },
        "outputId": "c8c3ebb8-5b68-4e08-9207-d5ab70e4bb70"
      },
      "execution_count": 13,
      "outputs": [
        {
          "output_type": "display_data",
          "data": {
            "text/plain": [
              "<Figure size 600x400 with 1 Axes>"
            ],
            "image/png": "[encoded data removed]"
          },
          "metadata": {}
        }
      ]
    },
    {
      "cell_type": "markdown",
      "source": [
        "## 4. Splitting data into training and testing data"
      ],
      "metadata": {
        "id": "-HFRAmJSXS1B"
      }
    },
    {
      "cell_type": "code",
      "source": [
        "# Split the data into training and testing sets\n",
        "train_df, test_df = train_test_split(df, test_size=0.2, random_state=42)\n",
        "\n",
        "# Convert text data to TF-IDF feature vectors\n",
        "tfidf_vectorizer = TfidfVectorizer()\n",
        "X_train = tfidf_vectorizer.fit_transform(train_df['X_processed'].apply(lambda x: \" \".join(x)))\n",
        "Y_train = train_df['Y']\n",
        "\n",
        "X_test = tfidf_vectorizer.transform(test_df['X_processed'].apply(lambda x: \" \".join(x)))\n",
        "Y_test = test_df['Y']"
      ],
      "metadata": {
        "id": "_monD4M9Tp0B"
      },
      "execution_count": 14,
      "outputs": []
    },
    {
      "cell_type": "code",
      "source": [
        "from imblearn.over_sampling import RandomOverSampler\n",
        "# Apply RandomOverSampler to balance the output classes\n",
        "oversampler = RandomOverSampler(random_state=42)\n",
        "X_train_resampled, Y_train_resampled = oversampler.fit_resample(X_train, Y_train)"
      ],
      "metadata": {
        "id": "d8IdqShiu893"
      },
      "execution_count": 15,
      "outputs": []
    },
    {
      "cell_type": "code",
      "source": [
        "# Convert the resampled CSR matrix to a DataFrame\n",
        "df_resampled = pd.DataFrame.sparse.from_spmatrix(X_train_resampled)\n",
        "\n",
        "# Assuming 'Y' is the column representing sentiment in your dataset\n",
        "df_resampled['Y'] = Y_train_resampled\n",
        "\n",
        "# Plot the count distribution of sentiments\n",
        "plt.figure(figsize=(6, 4))\n",
        "sns.countplot(x='Y', data=df_resampled, palette='rainbow')\n",
        "plt.title('Sentiment Distribution over training set')\n",
        "plt.xlabel('Sentiment')\n",
        "plt.ylabel('Count')\n",
        "plt.show()\n"
      ],
      "metadata": {
        "id": "P1vzCdftvWFl",
        "colab": {
          "base_uri": "https://localhost:8080/",
          "height": 410
        },
        "outputId": "31574cc7-fa65-4bee-8d4d-e5da048395b4"
      },
      "execution_count": 16,
      "outputs": [
        {
          "output_type": "display_data",
          "data": {
            "text/plain": [
              "<Figure size 600x400 with 1 Axes>"
            ],
            "image/png": "[encoded data removed]"
          },
          "metadata": {}
        }
      ]
    },
    {
      "cell_type": "markdown",
      "source": [
        "## 5. Model"
      ],
      "metadata": {
        "id": "HSF4svLLXoVr"
      }
    },
    {
      "cell_type": "code",
      "source": [
        "from sklearn.svm import SVC\n",
        "from sklearn.ensemble import RandomForestClassifier, VotingClassifier\n",
        "from sklearn.linear_model import LogisticRegression\n",
        "from sklearn.naive_bayes import MultinomialNB\n",
        "from sklearn.neural_network import MLPClassifier"
      ],
      "metadata": {
        "id": "HhmAaf30Miew"
      },
      "execution_count": 17,
      "outputs": []
    },
    {
      "cell_type": "code",
      "source": [
        "# Choosing a pre-trained model\n",
        "# Initialize classifiers\n",
        "svm_model = SVC(kernel='linear',C=1)\n",
        "rf_classifier = RandomForestClassifier(random_state=42)\n",
        "log_reg_classifier = LogisticRegression(max_iter=1000,random_state=42)\n",
        "nb_classifier = MultinomialNB()\n",
        "nn_classifier = MLPClassifier(hidden_layer_sizes=(100,), max_iter=1000, random_state=42)\n",
        "\n",
        "# Train classifiers\n",
        "svm_model.fit(X_train_resampled, Y_train_resampled)\n",
        "rf_classifier.fit(X_train_resampled, Y_train_resampled)\n",
        "log_reg_classifier.fit(X_train_resampled, Y_train_resampled)\n",
        "nb_classifier.fit(X_train_resampled, Y_train_resampled)\n",
        "nn_classifier.fit(X_train_resampled, Y_train_resampled)\n",
        "\n",
        "# Ensemble: Voting Classifier\n",
        "voting_classifier = VotingClassifier([('svm', svm_model),\n",
        "                                      ('rf', rf_classifier),\n",
        "                                      ('lr', log_reg_classifier),\n",
        "                                      ('nb', nb_classifier),\n",
        "                                      ('nn', nn_classifier)])\n",
        "\n",
        "voting_classifier.fit(X_train_resampled, Y_train_resampled)\n",
        "\n",
        "# Predictions/Testing the model\n",
        "svm_predictions = svm_model.predict(X_test)\n",
        "rf_predictions = rf_classifier.predict(X_test)\n",
        "log_reg_predictions = log_reg_classifier.predict(X_test)\n",
        "nb_predictions = nb_classifier.predict(X_test)\n",
        "nn_predictions = nn_classifier.predict(X_test)\n",
        "voting_predictions = voting_classifier.predict(X_test)\n",
        "\n",
        "# Evaluate performance\n",
        "classifiers = ['Support Vector Machine','Random Forest', 'Logistic Regression', 'Naive Bayes', 'Neural Network', 'Voting Classifier']\n",
        "predictions = [svm_predictions,rf_predictions, log_reg_predictions, nb_predictions, nn_predictions, voting_predictions]\n",
        "\n",
        "for clf, pred in zip(classifiers, predictions):\n",
        "    acc = accuracy_score(Y_test, pred)\n",
        "    print(f\"{clf} Accuracy: {acc:.4f}\")\n",
        "\n",
        "# Calculate and print confusion matrix for Voting Classifier\n",
        "voting_conf_matrix = confusion_matrix(Y_test, voting_predictions)\n",
        "print(\"\\nVoting Classifier Confusion Matrix:\")\n",
        "print(voting_conf_matrix)\n",
        "\n",
        "# Display classification report\n",
        "voting_class = classification_report(Y_test, voting_predictions)\n",
        "print(\"\\nClassification Report:\")\n",
        "print(voting_class)"
      ],
      "metadata": {
        "id": "xe-bsphl8Fze",
        "colab": {
          "base_uri": "https://localhost:8080/"
        },
        "outputId": "a3e1251d-b431-4056-da8d-99cae75c2ce6"
      },
      "execution_count": null,
      "outputs": [
        {
          "output_type": "stream",
          "name": "stdout",
          "text": [
            "Support Vector Machine Accuracy: 0.8032\n",
            "Random Forest Accuracy: 0.7716\n",
            "Logistic Regression Accuracy: 0.7861\n",
            "Naive Bayes Accuracy: 0.7076\n",
            "Neural Network Accuracy: 0.7639\n",
            "Voting Classifier Accuracy: 0.8052\n",
            "\n",
            "Voting Classifier Confusion Matrix:\n",
            "[[2502  282  339]\n",
            " [ 183 1189  139]\n",
            " [ 354  306 2937]]\n",
            "\n",
            "Classification Report:\n",
            "              precision    recall  f1-score   support\n",
            "\n",
            "           0       0.82      0.80      0.81      3123\n",
            "           1       0.67      0.79      0.72      1511\n",
            "           2       0.86      0.82      0.84      3597\n",
            "\n",
            "    accuracy                           0.81      8231\n",
            "   macro avg       0.78      0.80      0.79      8231\n",
            "weighted avg       0.81      0.81      0.81      8231\n",
            "\n"
          ]
        }
      ]
    },
    {
      "cell_type": "markdown",
      "source": [
        "## 6. Hyperparameter tuning"
      ],
      "metadata": {
        "id": "Xbw6geekh7_H"
      }
    },
    {
      "cell_type": "code",
      "source": [
        "svm_model = SVC(kernel='linear',C=1)\n",
        "svm_model.fit(X_train, Y_train)\n",
        "svm_predictions = svm_model.predict(X_test)\n",
        "acc = accuracy_score(Y_test, svm_predictions)\n"
      ],
      "metadata": {
        "id": "l0mG_p1Qgfyy"
      },
      "execution_count": null,
      "outputs": []
    },
    {
      "cell_type": "code",
      "source": [
        "print(f\" Accuracy: {acc:.4f}\")"
      ],
      "metadata": {
        "colab": {
          "base_uri": "https://localhost:8080/"
        },
        "id": "NGx60FgBiZdB",
        "outputId": "27e4ad9a-e6de-4096-e218-5b77872a7799"
      },
      "execution_count": null,
      "outputs": [
        {
          "output_type": "stream",
          "name": "stdout",
          "text": [
            " Accuracy: 0.8134\n"
          ]
        }
      ]
    },
    {
      "cell_type": "code",
      "source": [
        "from sklearn.linear_model import SGDClassifier"
      ],
      "metadata": {
        "colab": {
          "base_uri": "https://localhost:8080/"
        },
        "id": "Crwq1r-BeLnP",
        "outputId": "8062dd83-6a60-4139-dba9-5cf70539acd2"
      },
      "execution_count": null,
      "outputs": [
        {
          "output_type": "stream",
          "name": "stderr",
          "text": [
            "/usr/local/lib/python3.10/dist-packages/sklearn/linear_model/_stochastic_gradient.py:163: FutureWarning: The loss 'log' was deprecated in v1.1 and will be removed in version 1.3. Use `loss='log_loss'` which is equivalent.\n",
            "  warnings.warn(\n"
          ]
        },
        {
          "output_type": "stream",
          "name": "stdout",
          "text": [
            "Accuracy of SGDClassifier: 0.7564\n"
          ]
        }
      ]
    },
    {
      "cell_type": "code",
      "source": [
        "# Initialize and train the SGDClassifier\n",
        "sgd_classifier = SGDClassifier(loss='log', max_iter=1000, random_state=42)\n",
        "sgd_classifier.fit(X_train, Y_train)\n",
        "\n",
        "# Predict on the test set\n",
        "sgd_pred = sgd_classifier.predict(X_test)\n",
        "\n",
        "# Calculate accuracy\n",
        "accuracy = accuracy_score(Y_test, sgd_pred)\n",
        "print(f\"Accuracy of SGDClassifier: {accuracy:.4f}\")"
      ],
      "metadata": {
        "colab": {
          "base_uri": "https://localhost:8080/"
        },
        "id": "gbUiq54OfO8V",
        "outputId": "c0319da5-39b6-4e21-8640-18053dc6c943"
      },
      "execution_count": null,
      "outputs": [
        {
          "output_type": "stream",
          "name": "stderr",
          "text": [
            "/usr/local/lib/python3.10/dist-packages/sklearn/linear_model/_stochastic_gradient.py:163: FutureWarning: The loss 'log' was deprecated in v1.1 and will be removed in version 1.3. Use `loss='log_loss'` which is equivalent.\n",
            "  warnings.warn(\n"
          ]
        },
        {
          "output_type": "stream",
          "name": "stdout",
          "text": [
            "Accuracy of SGDClassifier: 0.7564\n"
          ]
        }
      ]
    },
    {
      "cell_type": "code",
      "source": [
        "from sklearn.kernel_approximation import Nystroem\n",
        "from sklearn.pipeline import make_pipeline\n",
        "\n",
        "# Create a pipeline with Nystroem transformer and SGDClassifier\n",
        "nystroem_sgd_pipeline = make_pipeline(\n",
        "    Nystroem(kernel='rbf', random_state=42, n_components=100),\n",
        "    SGDClassifier(loss='log', max_iter=1000, random_state=42)\n",
        ")\n",
        "\n",
        "# Train the pipeline\n",
        "nystroem_sgd_pipeline.fit(X_train, Y_train)\n",
        "\n",
        "# Predict on the test set\n",
        "nys_pred = nystroem_sgd_pipeline.predict(X_test)\n",
        "\n",
        "# Calculate accuracy\n",
        "accuracy = accuracy_score(Y_test, nys_pred)\n",
        "print(f\"Accuracy of Nystroem + SGDClassifier: {accuracy:.4f}\")"
      ],
      "metadata": {
        "colab": {
          "base_uri": "https://localhost:8080/"
        },
        "id": "uW9Q_nPefGz-",
        "outputId": "a14c1ec9-e6fb-4b6d-f547-4431fa4f5892"
      },
      "execution_count": null,
      "outputs": [
        {
          "output_type": "stream",
          "name": "stderr",
          "text": [
            "/usr/local/lib/python3.10/dist-packages/sklearn/linear_model/_stochastic_gradient.py:163: FutureWarning: The loss 'log' was deprecated in v1.1 and will be removed in version 1.3. Use `loss='log_loss'` which is equivalent.\n",
            "  warnings.warn(\n"
          ]
        },
        {
          "output_type": "stream",
          "name": "stdout",
          "text": [
            "Accuracy of Nystroem + SGDClassifier: 0.4370\n"
          ]
        }
      ]
    },
    {
      "cell_type": "code",
      "source": [
        "# # Hyperparameter tuning for SVM classifier\n",
        "# svm_classifier = SVC(kernel='rbf',random_state=42)\n",
        "\n",
        "# # Define a grid of hyperparameters to search\n",
        "# param_grid_svm = {\n",
        "#     'C': [0.1],  # Regularization parameter\n",
        "#     'gamma': [10],  # Kernel coefficient\n",
        "# }\n",
        "\n",
        "# # Perform Grid Search to find the best hyperparameters\n",
        "# grid_search_svm = GridSearchCV(estimator=svm_classifier, param_grid=param_grid_svm, cv=5, scoring='accuracy')\n",
        "# grid_search_svm.fit(X_train_resampled, Y_train_resampled)\n",
        "\n",
        "# # Get the best hyperparameters found by Grid Search\n",
        "# best_params_svm = grid_search_svm.best_params_\n",
        "# print(\"Best Hyperparameters for SVM:\", best_params_svm)\n",
        "\n",
        "# # Use the best hyperparameters to create an SVM model\n",
        "# best_svm_classifier = SVC(**best_params_svm, random_state=42)\n",
        "# best_svm_classifier.fit(X_train_resampled, Y_train_resampled)\n",
        "\n",
        "# # Make predictions using the tuned model\n",
        "# svm_predictions = best_svm_classifier.predict(X_test)\n",
        "\n",
        "# # Evaluate performance\n",
        "# accuracy_svm = accuracy_score(Y_test, svm_predictions)\n",
        "# print(f\"Accuracy with Tuned SVM: {accuracy_svm:.4f}\")\n",
        "\n",
        "# # print classification report\n",
        "# print(classification_report(Y_test, svm_predictions))"
      ],
      "metadata": {
        "id": "igS7X3qQ77b9"
      },
      "execution_count": null,
      "outputs": []
    },
    {
      "cell_type": "code",
      "source": [
        "# Hyperparameter tuning for Random Forest\n",
        "rf_classifier = RandomForestClassifier(random_state=42)\n",
        "param_grid_rf = {\n",
        "    'n_estimators': [100, 200, 300],\n",
        "    'max_depth': [None, 10, 20, 30],\n",
        "    'min_samples_split': [2, 5, 10],\n",
        "}\n",
        "\n",
        "grid_search_rf = GridSearchCV(estimator=rf_classifier, param_grid=param_grid_rf, cv=5, scoring='accuracy')\n",
        "grid_search_rf.fit(X_train, Y_train)\n",
        "best_params_rf = grid_search_rf.best_params_\n",
        "print(\"Best Hyperparameters for RF:\", best_params_rf)\n",
        "best_rf_classifier = RandomForestClassifier(**best_params_rf, random_state=42)\n",
        "best_rf_classifier.fit(X_train, Y_train)\n",
        "rf_predictions = best_rf_classifier.predict(X_test)\n",
        "accuracy_rf = accuracy_score(Y_test, rf_predictions)\n",
        "print(f\"Accuracy with Tuned Random Forest: {accuracy_rf:.4f}\")"
      ],
      "metadata": {
        "colab": {
          "base_uri": "https://localhost:8080/"
        },
        "id": "xIovFwjv3gOl",
        "outputId": "ccb2c3d4-9533-40d0-8b47-ffb9d66d2ec5"
      },
      "execution_count": null,
      "outputs": [
        {
          "output_type": "stream",
          "name": "stdout",
          "text": [
            "Best Hyperparameters for RF: {'max_depth': None, 'min_samples_split': 2, 'n_estimators': 300}\n",
            "Accuracy with Tuned Random Forest: 0.7732\n"
          ]
        }
      ]
    },
    {
      "cell_type": "code",
      "source": [
        "# Hyperparameter tuning for Logistic Regression\n",
        "log_reg_classifier = LogisticRegression(max_iter=1000, random_state=42)\n",
        "param_grid_log_reg = {\n",
        "    'C': [0.1, 1.0, 10.0],\n",
        "    'solver': ['liblinear', 'lbfgs']\n",
        "}\n",
        "\n",
        "grid_search_log_reg = GridSearchCV(estimator=log_reg_classifier, param_grid=param_grid_log_reg, cv=5, scoring='accuracy')\n",
        "grid_search_log_reg.fit(X_train, Y_train)\n",
        "best_params_log_reg = grid_search_log_reg.best_params_\n",
        "best_log_reg_classifier = LogisticRegression(**best_params_log_reg, max_iter=1000, random_state=42)\n",
        "best_log_reg_classifier.fit(X_train, Y_train)\n",
        "log_reg_predictions = best_log_reg_classifier.predict(X_test)\n",
        "accuracy_log_reg = accuracy_score(Y_test, log_reg_predictions)\n",
        "print(f\"Accuracy with Tuned Logistic Regression: {accuracy_log_reg:.4f}\")"
      ],
      "metadata": {
        "colab": {
          "base_uri": "https://localhost:8080/"
        },
        "id": "iOVeWBHq3kcp",
        "outputId": "db84ab44-9875-424d-cd1c-ca599f8dcc21"
      },
      "execution_count": null,
      "outputs": [
        {
          "output_type": "stream",
          "name": "stdout",
          "text": [
            "Accuracy with Tuned Logistic Regression: 0.8168\n"
          ]
        }
      ]
    },
    {
      "cell_type": "code",
      "source": [
        "print(\"Best Hyperparameters for LR:\", best_params_log_reg)"
      ],
      "metadata": {
        "colab": {
          "base_uri": "https://localhost:8080/"
        },
        "id": "GdHWnXauhHMa",
        "outputId": "1bd90e65-e6d8-4545-94d2-4684854736df"
      },
      "execution_count": null,
      "outputs": [
        {
          "output_type": "stream",
          "name": "stdout",
          "text": [
            "Best Hyperparameters for LR: {'C': 10.0, 'solver': 'liblinear'}\n"
          ]
        }
      ]
    },
    {
      "cell_type": "code",
      "source": [
        "\n",
        "# Hyperparameter tuning for Naive Bayes\n",
        "nb_classifier = MultinomialNB()\n",
        "param_grid_nb = {\n",
        "    'alpha': [0.1, 1.0, 10.0],\n",
        "}\n",
        "\n",
        "grid_search_nb = GridSearchCV(estimator=nb_classifier, param_grid=param_grid_nb, cv=5, scoring='accuracy')\n",
        "grid_search_nb.fit(X_train, Y_train)\n",
        "best_params_nb = grid_search_nb.best_params_\n",
        "best_nb_classifier = MultinomialNB(**best_params_nb)\n",
        "best_nb_classifier.fit(X_train, Y_train)\n",
        "nb_predictions = best_nb_classifier.predict(X_test)\n",
        "accuracy_nb = accuracy_score(Y_test, nb_predictions)\n",
        "print(f\"Accuracy with Tuned Naive Bayes: {accuracy_nb:.4f}\")"
      ],
      "metadata": {
        "colab": {
          "base_uri": "https://localhost:8080/"
        },
        "id": "BzpCgvFe3pgG",
        "outputId": "e3d6c22d-4a77-431e-9ea7-66534f2bb5f3"
      },
      "execution_count": null,
      "outputs": [
        {
          "output_type": "stream",
          "name": "stdout",
          "text": [
            "Accuracy with Tuned Naive Bayes: 0.6520\n"
          ]
        }
      ]
    },
    {
      "cell_type": "code",
      "source": [
        "# Hyperparameter tuning for Neural Network (MLPClassifier)\n",
        "nn_classifier = MLPClassifier(max_iter=1000, random_state=42)\n",
        "param_grid_nn = {\n",
        "    'hidden_layer_sizes': [(50,), (100,), (100, 50), (150, 100, 50)],\n",
        "    'alpha': [0.0001, 0.001, 0.01],\n",
        "}\n",
        "\n",
        "grid_search_nn = GridSearchCV(estimator=nn_classifier, param_grid=param_grid_nn, cv=5, scoring='accuracy')\n",
        "grid_search_nn.fit(X_train, Y_train)\n",
        "best_params_nn = grid_search_nn.best_params_\n",
        "best_nn_classifier = MLPClassifier(**best_params_nn, max_iter=1000, random_state=42)\n",
        "best_nn_classifier.fit(X_train, Y_train)\n",
        "nn_predictions = best_nn_classifier.predict(X_test)\n",
        "accuracy_nn = accuracy_score(Y_test, nn_predictions)\n",
        "print(f\"Accuracy with Tuned Neural Network: {accuracy_nn:.4f}\")"
      ],
      "metadata": {
        "id": "zd3F8eyb3sBB"
      },
      "execution_count": null,
      "outputs": []
    }
  ]
}