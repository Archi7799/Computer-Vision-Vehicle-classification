{
  "nbformat": 4,
  "nbformat_minor": 0,
  "metadata": {
    "colab": {
      "provenance": [],
      "authorship_tag": "ABX9TyMOEiF/Qv9Dc0Q6c6/BOnhW",
      "include_colab_link": true
    },
    "kernelspec": {
      "name": "python3",
      "display_name": "Python 3"
    },
    "language_info": {
      "name": "python"
    }
  },
  "cells": [
    {
      "cell_type": "markdown",
      "metadata": {
        "id": "view-in-github",
        "colab_type": "text"
      },
      "source": [
        "<a href=\"https://colab.research.google.com/github/Archi7799/Computer-Vision-Vehicle-classification/blob/main/Rise11.ipynb\" target=\"_parent\"><img src=\"https://colab.research.google.com/assets/colab-badge.svg\" alt=\"Open In Colab\"/></a>"
      ]
    },
    {
      "cell_type": "code",
      "execution_count": null,
      "metadata": {
        "colab": {
          "base_uri": "https://localhost:8080/"
        },
        "id": "gUj9nPckDCzf",
        "outputId": "4f4dc550-a821-462e-a541-8bf8460935fa"
      },
      "outputs": [
        {
          "output_type": "stream",
          "name": "stderr",
          "text": [
            "[nltk_data] Downloading package stopwords to /root/nltk_data...\n",
            "[nltk_data]   Package stopwords is already up-to-date!\n"
          ]
        }
      ],
      "source": [
        "import pandas as pd\n",
        "from sklearn.model_selection import train_test_split\n",
        "from sklearn.feature_extraction.text import TfidfVectorizer\n",
        "from sklearn.svm import SVC\n",
        "from sklearn.metrics import confusion_matrix\n",
        "import matplotlib.pyplot as plt\n",
        "import seaborn as sns\n",
        "import re\n",
        "import string\n",
        "import nltk\n",
        "from nltk.corpus import stopwords\n",
        "from sklearn.metrics import accuracy_score\n",
        "\n",
        "# Download NLTK stopwords if not already downloaded\n",
        "nltk.download('stopwords')\n",
        "\n",
        "# Load data\n",
        "data = pd.read_csv('train.csv')"
      ]
    },
    {
      "cell_type": "code",
      "source": [
        "# Preprocess the data\n",
        "def preprocess_text(text):\n",
        "    # Convert text to lowercase\n",
        "    text = text.lower()\n",
        "\n",
        "    # Remove numbers\n",
        "    text = re.sub(r'\\d+', '', text)\n",
        "\n",
        "    # Remove punctuation\n",
        "    text = text.translate(str.maketrans('', '', string.punctuation))\n",
        "\n",
        "    # Remove extra spaces\n",
        "    text = re.sub(r'\\s+', ' ', text).strip()\n",
        "\n",
        "    # Tokenization\n",
        "    tokens = text.split()\n",
        "\n",
        "    # Remove stop words\n",
        "    stop_words = set(stopwords.words('english'))\n",
        "    tokens = [word for word in tokens if word not in stop_words]\n",
        "\n",
        "    # Join tokens back to form a sentence\n",
        "    processed_text = ' '.join(tokens)\n",
        "\n",
        "    return processed_text\n",
        "\n",
        "# Apply preprocessing to the 'X' column\n",
        "data['X_processed'] = data['text'].apply(preprocess_text)"
      ],
      "metadata": {
        "id": "Xk6YP-K3J3vA"
      },
      "execution_count": null,
      "outputs": []
    },
    {
      "cell_type": "code",
      "source": [
        "plt.figure(figsize=(6,4))\n",
        "sns.countplot(x='Y', data=data, palette='rainbow')\n",
        "plt.title('Sentiment Distribution')\n",
        "plt.xlabel('Sentiment')\n",
        "plt.ylabel('Count')\n",
        "plt.show()"
      ],
      "metadata": {
        "colab": {
          "base_uri": "https://localhost:8080/",
          "height": 410
        },
        "id": "SiVqu7Y2K0Mx",
        "outputId": "2a38cb43-5cfc-4951-c01e-747b1a600463"
      },
      "execution_count": null,
      "outputs": [
        {
          "output_type": "display_data",
          "data": {
            "text/plain": [
              "<Figure size 600x400 with 1 Axes>"
            ],
            "image/png": "[encoded data removed]"
          },
          "metadata": {}
        }
      ]
    },
    {
      "cell_type": "code",
      "source": [
        "# Split the data into features (X) and target variable (Y)\n",
        "X = data['X_processed']  # Preprocessed social media posts\n",
        "Y = data['Y']  # Sentiment\n",
        "\n",
        "# Split the dataset into training and testing sets (80-20 split)\n",
        "X_train, X_test, Y_train, Y_test = train_test_split(X, Y, test_size=0.2, random_state=42)\n",
        "\n",
        "# Text vectorization using TF-IDF\n",
        "vectorizer = TfidfVectorizer(max_features=1000)  # You can adjust max_features as needed\n",
        "X_train = vectorizer.fit_transform(X_train)\n",
        "X_test = vectorizer.transform(X_test)"
      ],
      "metadata": {
        "id": "qhwvUvMhK6jX"
      },
      "execution_count": null,
      "outputs": []
    },
    {
      "cell_type": "code",
      "source": [
        "# Choosing a pre-trained model (Support Vector Machine in this case)\n",
        "svm_model = SVC(kernel='linear')  # You can explore other models and their hyperparameters\n",
        "\n",
        "# Training the model\n",
        "svm_model.fit(X_train, Y_train)\n",
        "\n",
        "# Testing the model\n",
        "Y_pred = svm_model.predict(X_test)"
      ],
      "metadata": {
        "id": "hjSsBTg_K-5Q"
      },
      "execution_count": null,
      "outputs": []
    },
    {
      "cell_type": "code",
      "source": [
        "# Plotting confusion matrix\n",
        "conf_matrix = confusion_matrix(Y_test, Y_pred)\n",
        "plt.figure(figsize=(8, 6))\n",
        "sns.heatmap(conf_matrix, annot=True, fmt='d', cmap='Blues', xticklabels=['0', '1', '2'], yticklabels=['0', '1', '2'])\n",
        "plt.xlabel('Predicted')\n",
        "plt.ylabel('Actual')\n",
        "plt.title('Confusion Matrix')\n",
        "plt.show()\n",
        "\n",
        "\n",
        "# Accuracy\n",
        "print(accuracy_score(Y_test, Y_pred))"
      ],
      "metadata": {
        "colab": {
          "base_uri": "https://localhost:8080/",
          "height": 581
        },
        "id": "FqNReDV5LBLF",
        "outputId": "98dac31d-a56a-4baf-baa9-dd541ace99a7"
      },
      "execution_count": null,
      "outputs": [
        {
          "output_type": "display_data",
          "data": {
            "text/plain": [
              "<Figure size 800x600 with 2 Axes>"
            ],
            "image/png": "[encoded data removed]"
          },
          "metadata": {}
        },
        {
          "output_type": "stream",
          "name": "stdout",
          "text": [
            "0.7429230956141416\n"
          ]
        }
      ]
    },
    {
      "cell_type": "code",
      "source": [
        "from sklearn.ensemble import RandomForestClassifier, VotingClassifier\n",
        "from sklearn.linear_model import LogisticRegression\n",
        "from sklearn.naive_bayes import MultinomialNB\n",
        "from sklearn.neural_network import MLPClassifier"
      ],
      "metadata": {
        "id": "HhmAaf30Miew"
      },
      "execution_count": null,
      "outputs": []
    },
    {
      "cell_type": "code",
      "source": [
        "# Initialize classifiers\n",
        "rf_classifier = RandomForestClassifier(n_estimators=100, random_state=42)\n",
        "log_reg_classifier = LogisticRegression(max_iter=1000, random_state=42)\n",
        "nb_classifier = MultinomialNB()\n",
        "nn_classifier = MLPClassifier(hidden_layer_sizes=(100,), max_iter=1000, random_state=42)\n",
        "\n",
        "# Train classifiers\n",
        "rf_classifier.fit(X_train, Y_train)\n",
        "log_reg_classifier.fit(X_train, Y_train)\n",
        "nb_classifier.fit(X_train, Y_train)\n",
        "nn_classifier.fit(X_train, Y_train)\n",
        "\n",
        "# Ensemble: Voting Classifier\n",
        "voting_classifier = VotingClassifier([('rf', rf_classifier),\n",
        "                                      ('lr', log_reg_classifier),\n",
        "                                      ('nb', nb_classifier),\n",
        "                                      ('nn', nn_classifier)])\n",
        "\n",
        "voting_classifier.fit(X_train, Y_train)\n",
        "\n",
        "# Predictions\n",
        "rf_predictions = rf_classifier.predict(X_test)\n",
        "log_reg_predictions = log_reg_classifier.predict(X_test)\n",
        "nb_predictions = nb_classifier.predict(X_test)\n",
        "nn_predictions = nn_classifier.predict(X_test)\n",
        "voting_predictions = voting_classifier.predict(X_test)\n",
        "\n",
        "# Evaluate performance\n",
        "classifiers = ['Random Forest', 'Logistic Regression', 'Naive Bayes', 'Neural Network', 'Voting Classifier']\n",
        "predictions = [rf_predictions, log_reg_predictions, nb_predictions, nn_predictions, voting_predictions]\n",
        "\n",
        "for clf, pred in zip(classifiers, predictions):\n",
        "    acc = accuracy_score(Y_test, pred)\n",
        "    print(f\"{clf} Accuracy: {acc:.4f}\")\n",
        "\n",
        "# Calculate and print confusion matrix for Voting Classifier\n",
        "voting_conf_matrix = confusion_matrix(Y_test, voting_predictions)\n",
        "print(\"\\nVoting Classifier Confusion Matrix:\")\n",
        "print(voting_conf_matrix)"
      ],
      "metadata": {
        "colab": {
          "base_uri": "https://localhost:8080/"
        },
        "id": "JyP6say3MoUu",
        "outputId": "daae1150-e28c-4361-f97a-0bc4d835095e"
      },
      "execution_count": null,
      "outputs": [
        {
          "output_type": "stream",
          "name": "stdout",
          "text": [
            "Random Forest Accuracy: 0.7133\n",
            "Logistic Regression Accuracy: 0.7356\n",
            "Naive Bayes Accuracy: 0.6524\n",
            "Neural Network Accuracy: 0.7153\n",
            "Voting Classifier Accuracy: 0.7388\n",
            "\n",
            "Voting Classifier Confusion Matrix:\n",
            "[[2377  257  489]\n",
            " [ 378  929  204]\n",
            " [ 546  276 2775]]\n"
          ]
        }
      ]
    }
  ]
}